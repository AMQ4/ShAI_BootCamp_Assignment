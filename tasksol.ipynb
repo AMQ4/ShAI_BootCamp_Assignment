{
 "cells": [
  {
   "cell_type": "code",
   "execution_count": 1,
   "id": "d2c9802e",
   "metadata": {},
   "outputs": [],
   "source": [
    "# importing necessary modules\n",
    "\n",
    "import pandas as pd\n",
    "import numpy as np\n",
    "\n",
    "df = pd.read_csv(\"./Salaries.csv\")\n",
    "# read `Salaries` dataset"
   ]
  },
  {
   "cell_type": "markdown",
   "id": "afe72cd0",
   "metadata": {},
   "source": [
    "### 1. Basic Data Exploration: Identify the number of rows and columns in the dataset, determine the data types of each column, and check for missing values in each column."
   ]
  },
  {
   "cell_type": "markdown",
   "id": "c2ab3215",
   "metadata": {},
   "source": [
    "Since `df` uses the default 0-based pandas's indexing method, we can get the # rows by getting the last index + 1."
   ]
  },
  {
   "cell_type": "code",
   "execution_count": 2,
   "id": "7b286f3c",
   "metadata": {},
   "outputs": [
    {
     "name": "stdout",
     "output_type": "stream",
     "text": [
      "Total # of rows: 148654\n",
      "Total # of columns: 13\n"
     ]
    }
   ],
   "source": [
    "print(f\"Total # of rows: {df.index[-1] + 1}\\nTotal # of columns: {len(df.columns)}\")"
   ]
  },
  {
   "cell_type": "markdown",
   "id": "345f0c59",
   "metadata": {},
   "source": [
    "#### Types of each column:"
   ]
  },
  {
   "cell_type": "code",
   "execution_count": 3,
   "id": "1c993d63",
   "metadata": {},
   "outputs": [
    {
     "name": "stdout",
     "output_type": "stream",
     "text": [
      "Index(['Id', 'EmployeeName', 'JobTitle', 'BasePay', 'OvertimePay', 'OtherPay',\n",
      "       'Benefits', 'TotalPay', 'TotalPayBenefits', 'Year', 'Notes', 'Agency',\n",
      "       'Status'],\n",
      "      dtype='object')\n"
     ]
    }
   ],
   "source": [
    "print(df.columns)"
   ]
  },
  {
   "cell_type": "markdown",
   "id": "82d65c30",
   "metadata": {},
   "source": [
    "Id: unique identifier (nominal).\n",
    "\n",
    "EmployeeName, JobTitle: nominal.\n",
    "\n",
    "BasePay, OvertimePay, OtherPay, Benefits, TotalPay, TotalPayBenefits: continuous, seince they contains a fractions.\n",
    "\n",
    "Year: discrete.\n",
    "\n",
    "Notes, Status: null values, they represent missing or undefined values, they could be nominal.\n",
    "\n",
    "Agency: nominal."
   ]
  },
  {
   "cell_type": "markdown",
   "id": "3b0b1a88",
   "metadata": {},
   "source": [
    "#### Checking for missing values:"
   ]
  },
  {
   "cell_type": "code",
   "execution_count": 4,
   "id": "e94977cc",
   "metadata": {},
   "outputs": [
    {
     "name": "stdout",
     "output_type": "stream",
     "text": [
      "Id                  False\n",
      "EmployeeName        False\n",
      "JobTitle            False\n",
      "BasePay              True\n",
      "OvertimePay          True\n",
      "OtherPay             True\n",
      "Benefits             True\n",
      "TotalPay            False\n",
      "TotalPayBenefits    False\n",
      "Year                False\n",
      "Notes                True\n",
      "Agency              False\n",
      "Status               True\n",
      "Name: Columns with missing values, dtype: bool\n"
     ]
    }
   ],
   "source": [
    "columns_with_mv = df.isna().any()\n",
    "columns_with_mv.name = \"Columns with missing values\"\n",
    "print(columns_with_mv)"
   ]
  },
  {
   "cell_type": "code",
   "execution_count": null,
   "id": "76a4df9f",
   "metadata": {},
   "outputs": [],
   "source": []
  }
 ],
 "metadata": {
  "kernelspec": {
   "display_name": "Python 3 (ipykernel)",
   "language": "python",
   "name": "python3"
  },
  "language_info": {
   "codemirror_mode": {
    "name": "ipython",
    "version": 3
   },
   "file_extension": ".py",
   "mimetype": "text/x-python",
   "name": "python",
   "nbconvert_exporter": "python",
   "pygments_lexer": "ipython3",
   "version": "3.11.5"
  }
 },
 "nbformat": 4,
 "nbformat_minor": 5
}
