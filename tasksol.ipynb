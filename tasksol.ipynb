{
 "cells": [
  {
   "cell_type": "code",
   "execution_count": 1,
   "id": "f58c0e09",
   "metadata": {},
   "outputs": [],
   "source": [
    "# importing necessary modules\n",
    "\n",
    "import pandas as pd\n",
    "import numpy as np\n",
    "\n",
    "df = pd.read_csv(\"./Salaries.csv\")\n",
    "# read `Salaries` dataset"
   ]
  },
  {
   "cell_type": "markdown",
   "id": "74971398",
   "metadata": {},
   "source": [
    "### 1. Basic Data Exploration: Identify the number of rows and columns in the dataset, determine the data types of each column, and check for missing values in each column."
   ]
  },
  {
   "cell_type": "markdown",
   "id": "0fc87087",
   "metadata": {},
   "source": [
    "Since `df` uses the default 0-based pandas's indexing method, we can get the # rows by getting the last index + 1."
   ]
  },
  {
   "cell_type": "code",
   "execution_count": 2,
   "id": "46ddeac3",
   "metadata": {},
   "outputs": [
    {
     "name": "stdout",
     "output_type": "stream",
     "text": [
      "Total # of rows: 148654\n",
      "Total # of columns: 13\n"
     ]
    }
   ],
   "source": [
    "print(f\"Total # of rows: {df.index[-1] + 1}\\nTotal # of columns: {len(df.columns)}\")"
   ]
  },
  {
   "cell_type": "markdown",
   "id": "cd1f7c2a",
   "metadata": {},
   "source": [
    "#### Types of each column:"
   ]
  },
  {
   "cell_type": "code",
   "execution_count": 3,
   "id": "f9242ff9",
   "metadata": {},
   "outputs": [
    {
     "name": "stdout",
     "output_type": "stream",
     "text": [
      "Index(['Id', 'EmployeeName', 'JobTitle', 'BasePay', 'OvertimePay', 'OtherPay',\n",
      "       'Benefits', 'TotalPay', 'TotalPayBenefits', 'Year', 'Notes', 'Agency',\n",
      "       'Status'],\n",
      "      dtype='object')\n"
     ]
    }
   ],
   "source": [
    "print(df.columns)"
   ]
  },
  {
   "cell_type": "markdown",
   "id": "4ebf00de",
   "metadata": {},
   "source": [
    "Id: unique identifier (nominal).\n",
    "\n",
    "EmployeeName, JobTitle: nominal.\n",
    "\n",
    "BasePay, OvertimePay, OtherPay, Benefits, TotalPay, TotalPayBenefits: continuous, seince they contains a fractions.\n",
    "\n",
    "Year: discrete.\n",
    "\n",
    "Notes, Status: null values, they represent missing or undefined values, they could be nominal.\n",
    "\n",
    "Agency: nominal."
   ]
  },
  {
   "cell_type": "markdown",
   "id": "b4f266cb",
   "metadata": {},
   "source": [
    "#### Checking for missing values:"
   ]
  },
  {
   "cell_type": "code",
   "execution_count": 4,
   "id": "281bcc11",
   "metadata": {},
   "outputs": [
    {
     "name": "stdout",
     "output_type": "stream",
     "text": [
      "Id                  False\n",
      "EmployeeName        False\n",
      "JobTitle            False\n",
      "BasePay              True\n",
      "OvertimePay          True\n",
      "OtherPay             True\n",
      "Benefits             True\n",
      "TotalPay            False\n",
      "TotalPayBenefits    False\n",
      "Year                False\n",
      "Notes                True\n",
      "Agency              False\n",
      "Status               True\n",
      "Name: Columns with missing values, dtype: bool\n"
     ]
    }
   ],
   "source": [
    "columns_with_mv = df.isna().any()\n",
    "columns_with_mv.name = \"Columns with missing values\"\n",
    "print(columns_with_mv)"
   ]
  },
  {
   "cell_type": "markdown",
   "id": "2fb01efa",
   "metadata": {},
   "source": [
    " ### 2. Calculate basic statistics mean, median, mode, minimum, and maximum salary, determine the range of salaries, and find the standard deviation."
   ]
  },
  {
   "cell_type": "markdown",
   "id": "73026f45",
   "metadata": {},
   "source": [
    "- Descriptive stat. for numerical attributes:"
   ]
  },
  {
   "cell_type": "code",
   "execution_count": 5,
   "id": "f204bf39",
   "metadata": {},
   "outputs": [
    {
     "name": "stdout",
     "output_type": "stream",
     "text": [
      "             BasePay    OvertimePay       OtherPay       Benefits  \\\n",
      "count  148045.000000  148650.000000  148650.000000  112491.000000   \n",
      "mean    66325.448840    5066.059886    3648.767297   25007.893151   \n",
      "std     42764.635495   11454.380559    8056.601866   15402.215858   \n",
      "min      -166.010000      -0.010000   -7058.590000     -33.890000   \n",
      "25%     33588.200000       0.000000       0.000000   11535.395000   \n",
      "50%     65007.450000       0.000000     811.270000   28628.620000   \n",
      "75%     94691.050000    4658.175000    4236.065000   35566.855000   \n",
      "max    319275.010000  245131.880000  400184.250000   96570.660000   \n",
      "\n",
      "            TotalPay  TotalPayBenefits           Year  Notes  Status  \n",
      "count  148654.000000     148654.000000  148654.000000    0.0     0.0  \n",
      "mean    74768.321972      93692.554811    2012.522643    NaN     NaN  \n",
      "std     50517.005274      62793.533483       1.117538    NaN     NaN  \n",
      "min      -618.130000       -618.130000    2011.000000    NaN     NaN  \n",
      "25%     36168.995000      44065.650000    2012.000000    NaN     NaN  \n",
      "50%     71426.610000      92404.090000    2013.000000    NaN     NaN  \n",
      "75%    105839.135000     132876.450000    2014.000000    NaN     NaN  \n",
      "max    567595.430000     567595.430000    2014.000000    NaN     NaN  \n"
     ]
    }
   ],
   "source": [
    "print(df.drop(columns=[\"Id\"]).describe(include=[\"number\"]))"
   ]
  },
  {
   "cell_type": "markdown",
   "id": "0c671c10",
   "metadata": {},
   "source": [
    "- Descriptive stat. for categorical attributes:"
   ]
  },
  {
   "cell_type": "code",
   "execution_count": 6,
   "id": "36c5d6e7",
   "metadata": {},
   "outputs": [
    {
     "name": "stdout",
     "output_type": "stream",
     "text": [
      "       EmployeeName          JobTitle         Agency\n",
      "count        148654            148654         148654\n",
      "unique       110811              2159              1\n",
      "top       Kevin Lee  Transit Operator  San Francisco\n",
      "freq             13              7036         148654\n"
     ]
    }
   ],
   "source": [
    "print(df.describe(include=[\"object\"]))"
   ]
  },
  {
   "cell_type": "code",
   "execution_count": null,
   "id": "2936e6da",
   "metadata": {},
   "outputs": [],
   "source": []
  }
 ],
 "metadata": {
  "kernelspec": {
   "display_name": "Python 3 (ipykernel)",
   "language": "python",
   "name": "python3"
  },
  "language_info": {
   "codemirror_mode": {
    "name": "ipython",
    "version": 3
   },
   "file_extension": ".py",
   "mimetype": "text/x-python",
   "name": "python",
   "nbconvert_exporter": "python",
   "pygments_lexer": "ipython3",
   "version": "3.11.5"
  }
 },
 "nbformat": 4,
 "nbformat_minor": 5
}
