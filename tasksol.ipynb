{
 "cells": [
  {
   "cell_type": "code",
   "execution_count": 2,
   "id": "f58c0e09",
   "metadata": {},
   "outputs": [],
   "source": [
    "# importing necessary modules\n",
    "\n",
    "import pandas as pd\n",
    "import numpy as np\n",
    "\n",
    "df = pd.read_csv(\"./Salaries.csv\")\n",
    "# read `Salaries` dataset"
   ]
  },
  {
   "cell_type": "markdown",
   "id": "74971398",
   "metadata": {},
   "source": [
    "### 1. Basic Data Exploration: Identify the number of rows and columns in the dataset, determine the data types of each column, and check for missing values in each column."
   ]
  },
  {
   "cell_type": "markdown",
   "id": "0fc87087",
   "metadata": {},
   "source": [
    "Since `df` uses the default 0-based pandas's indexing method, we can get the # rows by getting the last index + 1."
   ]
  },
  {
   "cell_type": "code",
   "execution_count": 3,
   "id": "46ddeac3",
   "metadata": {},
   "outputs": [
    {
     "name": "stdout",
     "output_type": "stream",
     "text": [
      "Total # of rows: 148654\n",
      "Total # of columns: 13\n"
     ]
    }
   ],
   "source": [
    "print(f\"Total # of rows: {df.index[-1] + 1}\\nTotal # of columns: {len(df.columns)}\")"
   ]
  },
  {
   "cell_type": "markdown",
   "id": "cd1f7c2a",
   "metadata": {},
   "source": [
    "#### Types of each column:"
   ]
  },
  {
   "cell_type": "code",
   "execution_count": 4,
   "id": "f9242ff9",
   "metadata": {},
   "outputs": [
    {
     "name": "stdout",
     "output_type": "stream",
     "text": [
      "Index(['Id', 'EmployeeName', 'JobTitle', 'BasePay', 'OvertimePay', 'OtherPay',\n",
      "       'Benefits', 'TotalPay', 'TotalPayBenefits', 'Year', 'Notes', 'Agency',\n",
      "       'Status'],\n",
      "      dtype='object')\n"
     ]
    }
   ],
   "source": [
    "print(df.columns)"
   ]
  },
  {
   "cell_type": "markdown",
   "id": "4ebf00de",
   "metadata": {},
   "source": [
    "Id: unique identifier (nominal).\n",
    "\n",
    "EmployeeName, JobTitle: nominal.\n",
    "\n",
    "BasePay, OvertimePay, OtherPay, Benefits, TotalPay, TotalPayBenefits: continuous, seince they contains a fractions.\n",
    "\n",
    "Year: discrete.\n",
    "\n",
    "Notes, Status: null values, they represent missing or undefined values, they could be nominal.\n",
    "\n",
    "Agency: nominal."
   ]
  },
  {
   "cell_type": "markdown",
   "id": "b4f266cb",
   "metadata": {},
   "source": [
    "#### Checking for missing values:"
   ]
  },
  {
   "cell_type": "code",
   "execution_count": 5,
   "id": "281bcc11",
   "metadata": {},
   "outputs": [
    {
     "name": "stdout",
     "output_type": "stream",
     "text": [
      "Id                  False\n",
      "EmployeeName        False\n",
      "JobTitle            False\n",
      "BasePay              True\n",
      "OvertimePay          True\n",
      "OtherPay             True\n",
      "Benefits             True\n",
      "TotalPay            False\n",
      "TotalPayBenefits    False\n",
      "Year                False\n",
      "Notes                True\n",
      "Agency              False\n",
      "Status               True\n",
      "Name: Columns with missing values, dtype: bool\n"
     ]
    }
   ],
   "source": [
    "columns_with_mv = df.isna().any()\n",
    "columns_with_mv.name = \"Columns with missing values\"\n",
    "print(columns_with_mv)"
   ]
  },
  {
   "cell_type": "markdown",
   "id": "2fb01efa",
   "metadata": {},
   "source": [
    " ### 2. Calculate basic statistics mean, median, mode, minimum, and maximum salary, determine the range of salaries, and find the standard deviation."
   ]
  },
  {
   "cell_type": "markdown",
   "id": "73026f45",
   "metadata": {},
   "source": [
    "- Descriptive stat. for numerical attributes:"
   ]
  },
  {
   "cell_type": "code",
   "execution_count": 6,
   "id": "f204bf39",
   "metadata": {},
   "outputs": [
    {
     "name": "stdout",
     "output_type": "stream",
     "text": [
      "             BasePay    OvertimePay       OtherPay       Benefits  \\\n",
      "count  148045.000000  148650.000000  148650.000000  112491.000000   \n",
      "mean    66325.448840    5066.059886    3648.767297   25007.893151   \n",
      "std     42764.635495   11454.380559    8056.601866   15402.215858   \n",
      "min      -166.010000      -0.010000   -7058.590000     -33.890000   \n",
      "25%     33588.200000       0.000000       0.000000   11535.395000   \n",
      "50%     65007.450000       0.000000     811.270000   28628.620000   \n",
      "75%     94691.050000    4658.175000    4236.065000   35566.855000   \n",
      "max    319275.010000  245131.880000  400184.250000   96570.660000   \n",
      "\n",
      "            TotalPay  TotalPayBenefits           Year  Notes  Status  \n",
      "count  148654.000000     148654.000000  148654.000000    0.0     0.0  \n",
      "mean    74768.321972      93692.554811    2012.522643    NaN     NaN  \n",
      "std     50517.005274      62793.533483       1.117538    NaN     NaN  \n",
      "min      -618.130000       -618.130000    2011.000000    NaN     NaN  \n",
      "25%     36168.995000      44065.650000    2012.000000    NaN     NaN  \n",
      "50%     71426.610000      92404.090000    2013.000000    NaN     NaN  \n",
      "75%    105839.135000     132876.450000    2014.000000    NaN     NaN  \n",
      "max    567595.430000     567595.430000    2014.000000    NaN     NaN  \n"
     ]
    }
   ],
   "source": [
    "print(df.drop(columns=[\"Id\"]).describe(include=[\"number\"]))"
   ]
  },
  {
   "cell_type": "markdown",
   "id": "0c671c10",
   "metadata": {},
   "source": [
    "- Descriptive stat. for categorical attributes:"
   ]
  },
  {
   "cell_type": "code",
   "execution_count": 7,
   "id": "36c5d6e7",
   "metadata": {},
   "outputs": [
    {
     "name": "stdout",
     "output_type": "stream",
     "text": [
      "       EmployeeName          JobTitle         Agency\n",
      "count        148654            148654         148654\n",
      "unique       110811              2159              1\n",
      "top       Kevin Lee  Transit Operator  San Francisco\n",
      "freq             13              7036         148654\n"
     ]
    }
   ],
   "source": [
    "print(df.describe(include=[\"object\"]))"
   ]
  },
  {
   "cell_type": "markdown",
   "id": "56368ba8",
   "metadata": {},
   "source": [
    "### 3. Handle missing data by suitable method with explain why you use it."
   ]
  },
  {
   "cell_type": "markdown",
   "id": "f4831e45",
   "metadata": {},
   "source": [
    "Well, there are many methods and techniques to deal with missing values, and the most appropriate thing to consider when dealing with missing values is to go back to our stakeholders and ask them how to deal with these missing values.\n",
    "\n",
    "Let's take a closer look at the missing data, to see the appropriate way to handle each one:"
   ]
  },
  {
   "cell_type": "code",
   "execution_count": 8,
   "id": "7a2e2476",
   "metadata": {},
   "outputs": [
    {
     "data": {
      "text/plain": [
       "BasePay           609\n",
       "OvertimePay         4\n",
       "OtherPay            4\n",
       "Benefits        36163\n",
       "Notes          148654\n",
       "Status         148654\n",
       "dtype: int64"
      ]
     },
     "execution_count": 8,
     "metadata": {},
     "output_type": "execute_result"
    }
   ],
   "source": [
    "df.loc[:, columns_with_mv].isna().sum()"
   ]
  },
  {
   "cell_type": "markdown",
   "id": "47e8c81b",
   "metadata": {},
   "source": [
    "Assuming that all missing values are missing completely at random(MCAR) or missing at random(MAR), we can:"
   ]
  },
  {
   "cell_type": "markdown",
   "id": "f98ec059",
   "metadata": {},
   "source": [
    "- **Row/Column Deletion**:\n",
    "  This has some repercussions, such as loss of information, impact on statistical calculations, and, of course, it will introduce bias. So, this method is feasible only when large datasets are available, and missing values occur only in a small percentage relative to the dataset size, like in case of `OvertimePay`, `OtherPay` and `BasePay`."
   ]
  },
  {
   "cell_type": "code",
   "execution_count": 9,
   "id": "cc1ad798",
   "metadata": {},
   "outputs": [],
   "source": [
    "df.dropna(subset=[\"OvertimePay\", \"OtherPay\"], inplace=True)"
   ]
  },
  {
   "cell_type": "markdown",
   "id": "38f53575",
   "metadata": {},
   "source": [
    "    For both `Notes` and `Status` null columns, it may be reasonable to consider removing them, as they do not provide meaningful information for analysis."
   ]
  },
  {
   "cell_type": "code",
   "execution_count": 10,
   "id": "ff1b836f",
   "metadata": {},
   "outputs": [],
   "source": [
    "df.drop(columns=[\"Status\", \"Notes\"], inplace=True)"
   ]
  },
  {
   "cell_type": "markdown",
   "id": "9dd9ad6d",
   "metadata": {},
   "source": [
    "- **Imputation**:\n",
    "  Imputation involves filling in missing data, typically done by using measures like the mean, median, mode, neighboring values, or predictive modeling techniques.\n",
    "\n",
    "  When dealing with missing values, it's important to be keep in mind the potential biases introduced by using the mean, especially when a large number of values are missing (e.g. useing the mean for impute missing values in the `Benefits` column), as this could skew the central tendency of the data and lead to inaccuracies. \n",
    "  \n",
    "  In such cases, choosing the median can offer a more robust representation, especially as it is not influenced by outliers. While it's a common practice to calculate subgroup means/medians for imputation, but for simplicity, I'll use the overall mean/median. Additionally, for categorical attributes, relying on the mode is generally the recommended approach.\n",
    "\n",
    "  The decision between mean and median depends on various factors, one of which involves **assessing skewness**. For example, when examining the skewness of the `BasePay` column and finding a skewness value of approximately 0.42—indicating a nearly symmetric distribution—the choice between mean and median for handling missing values becomes more easy. Given the almost symmetrical nature of the distribution,choosing for the mean to substitute missing values is a suitable choice."
   ]
  },
  {
   "cell_type": "code",
   "execution_count": 11,
   "id": "f2061f44",
   "metadata": {},
   "outputs": [
    {
     "name": "stdout",
     "output_type": "stream",
     "text": [
      "β = 0.42\n"
     ]
    }
   ],
   "source": [
    "print(\"β = {0:.2}\".format(df[\"BasePay\"].skew()))\n",
    "df[\"BasePay\"].fillna(df[\"BasePay\"].mean(), inplace=True)"
   ]
  },
  {
   "cell_type": "markdown",
   "id": "01b057e6",
   "metadata": {},
   "source": [
    "    Finally, let's handle the missing values in the `Benefits` column of our dataset. Since the number of missing values is relatively large compared to the total size, traditional imputation methods like using the mean or median might not be suitable. Instead, employing the linear regression algorithm seems promising.\n",
    "    It assumes a linear relationship between the target variable and the other features. By training a linear regression model on the instances where the Benefits column is not missing, we can use this model to predict and impute the missing values based on the observed relationships in the data. This makes it a suitable choice for our scenario."
   ]
  },
  {
   "cell_type": "code",
   "execution_count": 12,
   "id": "c68876bc",
   "metadata": {},
   "outputs": [
    {
     "name": "stdout",
     "output_type": "stream",
     "text": [
      "MSE = 3.5e+04\n"
     ]
    }
   ],
   "source": [
    "from sklearn.model_selection import train_test_split\n",
    "from sklearn.linear_model import LinearRegression\n",
    "from sklearn.metrics import mean_squared_error\n",
    "\n",
    "model = LinearRegression()\n",
    "\n",
    "df_not_missing, df_missing = (\n",
    "    df.loc[df[\"Benefits\"].notna(), df.columns.difference([\"Id\", \"EmployeeName\", \"Agency\", \"Year\"])],\n",
    "    df.loc[df[\"Benefits\"].isna(), df.columns.difference([\"Id\", \"EmployeeName\", \"Agency\", \"Benefits\", \"Year\"])]\n",
    ")\n",
    "\n",
    "df_not_missing.loc[:, \"JobTitle\"] = df_not_missing[\"JobTitle\"].map(df_not_missing[\"JobTitle\"].value_counts().to_dict())\n",
    "df_missing.loc[:, \"JobTitle\"] = df_missing[\"JobTitle\"].map(df_missing[\"JobTitle\"].value_counts().to_dict())\n",
    "\n",
    "\n",
    "xtrain, xtest, ytrain, ytest = train_test_split(df_not_missing.drop(columns=[\"Benefits\"]), df_not_missing.Benefits)\n",
    "xtrain = xtrain.sub(xtrain.mean()).div(xtrain.std())\n",
    "xtest = xtest.sub(xtest.mean()).div(xtest.std())\n",
    "model.fit(xtrain, ytrain)\n",
    "ypredict = model.predict(xtest)\n",
    "\n",
    "print(\"MSE = {0:.2}\".format(mean_squared_error(ytest, ypredict)))"
   ]
  },
  {
   "cell_type": "code",
   "execution_count": 13,
   "id": "9d18fd12",
   "metadata": {},
   "outputs": [],
   "source": [
    "df_missing = df_missing.sub(df_missing.mean()).div(df_missing.std())\n",
    "ypredict = model.predict(df_missing)\n",
    "cleaned_benefits = pd.DataFrame(ypredict, index=df_missing.index, columns=[\"Benefits\"])\n",
    "df = df.combine_first(cleaned_benefits)"
   ]
  },
  {
   "cell_type": "markdown",
   "id": "f4073b48",
   "metadata": {},
   "source": [
    "Quick check:"
   ]
  },
  {
   "cell_type": "code",
   "execution_count": 14,
   "id": "75ae3a73",
   "metadata": {},
   "outputs": [
    {
     "data": {
      "text/plain": [
       "Agency              False\n",
       "BasePay             False\n",
       "Benefits            False\n",
       "EmployeeName        False\n",
       "Id                  False\n",
       "JobTitle            False\n",
       "OtherPay            False\n",
       "OvertimePay         False\n",
       "TotalPay            False\n",
       "TotalPayBenefits    False\n",
       "Year                False\n",
       "dtype: bool"
      ]
     },
     "execution_count": 14,
     "metadata": {},
     "output_type": "execute_result"
    }
   ],
   "source": [
    "df.isna().any()"
   ]
  },
  {
   "cell_type": "markdown",
   "id": "ed625a4b",
   "metadata": {},
   "source": [
    "Well, the absence of detailed information regarding data sources, coupled with a lack of guidance on managing missing values and distinguishing between correct and incorrect data values, complicates the data cleaning process. \n",
    "\n",
    "Please, refer to *doi* research papers below for more information about how I deal with this task:  \n",
    "10.20470/JSI.V5I1.178  \n",
    "10.1111/j.1741-3737.2005.00191\n",
    "\n",
    "or follow these links:  \n",
    "https://rb.gy/wjiwmb <br>\n",
    "https://rb.gy/le1m0o\n",
    "\n",
    "\n"
   ]
  },
  {
   "cell_type": "markdown",
   "id": "bd28b213",
   "metadata": {},
   "source": [
    "### 4. **Basic Data Visualization**: Create histograms or bar charts to visualize the distribution of salaries, and use pie charts to represent the proportion of employees in different departments."
   ]
  },
  {
   "cell_type": "code",
   "execution_count": 15,
   "id": "c5eec48a",
   "metadata": {},
   "outputs": [
    {
     "data": {
      "image/png": "[encoded data removed]",
      "text/plain": [
       "<Figure size 640x480 with 1 Axes>"
      ]
     },
     "metadata": {},
     "output_type": "display_data"
    }
   ],
   "source": [
    "import matplotlib.pyplot as plt \n",
    "\n",
    "k = int(np.ceil((df.index[-1] + 1) ** 0.5))\n",
    "min, max = df.TotalPay.min(), df.TotalPay.max()\n",
    "R = max - min\n",
    "class_length = np.ceil(R/k)\n",
    "classes = [min + class_length * (j - 1) for j in range(k)]\n",
    "\n",
    "plt.hist(df.TotalPay, bins=classes, density=True)\n",
    "\n",
    "plt.title(\"salaries distribution\")\n",
    "plt.ylabel(\"Frequency\")\n",
    "plt.xlabel(\"Salaries ($)\")\n",
    "plt.grid(True, linestyle='--', alpha=0.6)\n",
    "plt.axvline(df.TotalPay.mean(), color='red', linestyle='-', linewidth=1, label='Mean Salary')\n",
    "plt.legend()\n",
    "\n",
    "plt.show()"
   ]
  },
  {
   "cell_type": "markdown",
   "id": "d638de75",
   "metadata": {},
   "source": [
    "Since there is no explicit department column in the provided dataset, I've opt to use the 'JobTitle' column to infer departmental information.  \n",
    "However, since there are 2158 unique JobTitles, visualizing each individual title in a pie chart would be overwhelming and lack meaningful insight.  \n",
    "Thus, the decision is made to prioritize clarity and focus on the top N departments, where N is adjustable, based on employee count"
   ]
  },
  {
   "cell_type": "code",
   "execution_count": 16,
   "id": "df7543d1",
   "metadata": {},
   "outputs": [
    {
     "data": {
      "image/png": "[encoded data removed]",
      "text/plain": [
       "<Figure size 640x480 with 1 Axes>"
      ]
     },
     "metadata": {},
     "output_type": "display_data"
    }
   ],
   "source": [
    "TOP_LARGEST_NDEPARTMENT = 7\n",
    "top_departments = df['JobTitle'].value_counts().nlargest(TOP_LARGEST_NDEPARTMENT)\n",
    "plt.pie(top_departments, labels=top_departments.index, startangle=0, autopct=\"%1.1f%%\")\n",
    "plt.show()"
   ]
  },
  {
   "cell_type": "markdown",
   "id": "38003338",
   "metadata": {},
   "source": [
    "### 6. Grouped Analysis Group the data by one or more columns and calculate summary statistics for each  group, and compare the average salaries across different groups.\n"
   ]
  },
  {
   "cell_type": "code",
   "execution_count": 17,
   "id": "52d324b0",
   "metadata": {},
   "outputs": [
    {
     "data": {
      "text/html": [
       "<div>\n",
       "<style scoped>\n",
       "    .dataframe tbody tr th:only-of-type {\n",
       "        vertical-align: middle;\n",
       "    }\n",
       "\n",
       "    .dataframe tbody tr th {\n",
       "        vertical-align: top;\n",
       "    }\n",
       "\n",
       "    .dataframe thead th {\n",
       "        text-align: right;\n",
       "    }\n",
       "</style>\n",
       "<table border=\"1\" class=\"dataframe\">\n",
       "  <thead>\n",
       "    <tr style=\"text-align: right;\">\n",
       "      <th></th>\n",
       "      <th>BasePay</th>\n",
       "      <th>OvertimePay</th>\n",
       "      <th>OtherPay</th>\n",
       "      <th>TotalPay</th>\n",
       "      <th>TotalPayBenefits</th>\n",
       "    </tr>\n",
       "    <tr>\n",
       "      <th>Year</th>\n",
       "      <th></th>\n",
       "      <th></th>\n",
       "      <th></th>\n",
       "      <th></th>\n",
       "      <th></th>\n",
       "    </tr>\n",
       "  </thead>\n",
       "  <tbody>\n",
       "    <tr>\n",
       "      <th>2011</th>\n",
       "      <td>63595.956517</td>\n",
       "      <td>1.638388e+08</td>\n",
       "      <td>400184.25</td>\n",
       "      <td>71744.103871</td>\n",
       "      <td>2.594195e+09</td>\n",
       "    </tr>\n",
       "    <tr>\n",
       "      <th>2012</th>\n",
       "      <td>65436.406857</td>\n",
       "      <td>1.846910e+08</td>\n",
       "      <td>245999.41</td>\n",
       "      <td>74113.262265</td>\n",
       "      <td>3.696940e+09</td>\n",
       "    </tr>\n",
       "    <tr>\n",
       "      <th>2013</th>\n",
       "      <td>69576.866579</td>\n",
       "      <td>1.986214e+08</td>\n",
       "      <td>202322.37</td>\n",
       "      <td>77611.443142</td>\n",
       "      <td>3.814772e+09</td>\n",
       "    </tr>\n",
       "    <tr>\n",
       "      <th>2014</th>\n",
       "      <td>66564.421924</td>\n",
       "      <td>2.059186e+08</td>\n",
       "      <td>342802.63</td>\n",
       "      <td>75471.836912</td>\n",
       "      <td>3.821866e+09</td>\n",
       "    </tr>\n",
       "  </tbody>\n",
       "</table>\n",
       "</div>"
      ],
      "text/plain": [
       "           BasePay   OvertimePay   OtherPay      TotalPay  TotalPayBenefits\n",
       "Year                                                                       \n",
       "2011  63595.956517  1.638388e+08  400184.25  71744.103871      2.594195e+09\n",
       "2012  65436.406857  1.846910e+08  245999.41  74113.262265      3.696940e+09\n",
       "2013  69576.866579  1.986214e+08  202322.37  77611.443142      3.814772e+09\n",
       "2014  66564.421924  2.059186e+08  342802.63  75471.836912      3.821866e+09"
      ]
     },
     "execution_count": 17,
     "metadata": {},
     "output_type": "execute_result"
    }
   ],
   "source": [
    "grouped_by_year = df.groupby('Year')\n",
    "grouped_by_job_title = df.groupby('JobTitle')\n",
    "grouped_by_year_job_title = df.groupby(['Year', 'JobTitle'])\n",
    "\n",
    "aggregate_functions = {\n",
    "    'BasePay': 'mean',\n",
    "    'OvertimePay': 'sum',\n",
    "    'OtherPay': 'max',\n",
    "    'TotalPay': 'mean',\n",
    "    'TotalPayBenefits': 'sum'\n",
    "}\n",
    "grouped_by_year.aggregate(aggregate_functions)\n"
   ]
  },
  {
   "cell_type": "code",
   "execution_count": 18,
   "id": "aa8a8744",
   "metadata": {},
   "outputs": [
    {
     "data": {
      "text/html": [
       "<div>\n",
       "<style scoped>\n",
       "    .dataframe tbody tr th:only-of-type {\n",
       "        vertical-align: middle;\n",
       "    }\n",
       "\n",
       "    .dataframe tbody tr th {\n",
       "        vertical-align: top;\n",
       "    }\n",
       "\n",
       "    .dataframe thead th {\n",
       "        text-align: right;\n",
       "    }\n",
       "</style>\n",
       "<table border=\"1\" class=\"dataframe\">\n",
       "  <thead>\n",
       "    <tr style=\"text-align: right;\">\n",
       "      <th></th>\n",
       "      <th>BasePay</th>\n",
       "      <th>OvertimePay</th>\n",
       "      <th>OtherPay</th>\n",
       "      <th>TotalPay</th>\n",
       "      <th>TotalPayBenefits</th>\n",
       "    </tr>\n",
       "    <tr>\n",
       "      <th>JobTitle</th>\n",
       "      <th></th>\n",
       "      <th></th>\n",
       "      <th></th>\n",
       "      <th></th>\n",
       "      <th></th>\n",
       "    </tr>\n",
       "  </thead>\n",
       "  <tbody>\n",
       "    <tr>\n",
       "      <th>ACCOUNT CLERK</th>\n",
       "      <td>43300.806506</td>\n",
       "      <td>30975.67</td>\n",
       "      <td>3370.13</td>\n",
       "      <td>44035.664337</td>\n",
       "      <td>3654960.14</td>\n",
       "    </tr>\n",
       "    <tr>\n",
       "      <th>ACCOUNTANT</th>\n",
       "      <td>46643.172000</td>\n",
       "      <td>0.00</td>\n",
       "      <td>2782.08</td>\n",
       "      <td>47429.268000</td>\n",
       "      <td>237146.34</td>\n",
       "    </tr>\n",
       "    <tr>\n",
       "      <th>ACCOUNTANT INTERN</th>\n",
       "      <td>28732.663958</td>\n",
       "      <td>1172.67</td>\n",
       "      <td>3069.19</td>\n",
       "      <td>29031.742917</td>\n",
       "      <td>1393523.66</td>\n",
       "    </tr>\n",
       "    <tr>\n",
       "      <th>ACPO,JuvP, Juv Prob (SFERS)</th>\n",
       "      <td>62290.780000</td>\n",
       "      <td>0.00</td>\n",
       "      <td>0.00</td>\n",
       "      <td>62290.780000</td>\n",
       "      <td>80266.37</td>\n",
       "    </tr>\n",
       "    <tr>\n",
       "      <th>ACUPUNCTURIST</th>\n",
       "      <td>66374.400000</td>\n",
       "      <td>0.00</td>\n",
       "      <td>1220.00</td>\n",
       "      <td>67594.400000</td>\n",
       "      <td>67594.40</td>\n",
       "    </tr>\n",
       "    <tr>\n",
       "      <th>...</th>\n",
       "      <td>...</td>\n",
       "      <td>...</td>\n",
       "      <td>...</td>\n",
       "      <td>...</td>\n",
       "      <td>...</td>\n",
       "    </tr>\n",
       "    <tr>\n",
       "      <th>X-RAY LABORATORY AIDE</th>\n",
       "      <td>47664.773077</td>\n",
       "      <td>92851.81</td>\n",
       "      <td>5643.93</td>\n",
       "      <td>52705.880385</td>\n",
       "      <td>1370352.89</td>\n",
       "    </tr>\n",
       "    <tr>\n",
       "      <th>X-Ray Laboratory Aide</th>\n",
       "      <td>46086.387100</td>\n",
       "      <td>348376.71</td>\n",
       "      <td>7916.20</td>\n",
       "      <td>50823.942700</td>\n",
       "      <td>6952112.32</td>\n",
       "    </tr>\n",
       "    <tr>\n",
       "      <th>YOUTH COMMISSION ADVISOR, BOARD OF SUPERVISORS</th>\n",
       "      <td>52609.910000</td>\n",
       "      <td>0.00</td>\n",
       "      <td>1022.96</td>\n",
       "      <td>53632.870000</td>\n",
       "      <td>53632.87</td>\n",
       "    </tr>\n",
       "    <tr>\n",
       "      <th>Youth Comm Advisor</th>\n",
       "      <td>39077.957500</td>\n",
       "      <td>0.00</td>\n",
       "      <td>5296.91</td>\n",
       "      <td>41414.307500</td>\n",
       "      <td>240474.20</td>\n",
       "    </tr>\n",
       "    <tr>\n",
       "      <th>ZOO CURATOR</th>\n",
       "      <td>43148.000000</td>\n",
       "      <td>0.00</td>\n",
       "      <td>23538.56</td>\n",
       "      <td>66686.560000</td>\n",
       "      <td>66686.56</td>\n",
       "    </tr>\n",
       "  </tbody>\n",
       "</table>\n",
       "<p>2158 rows × 5 columns</p>\n",
       "</div>"
      ],
      "text/plain": [
       "                                                     BasePay  OvertimePay  \\\n",
       "JobTitle                                                                    \n",
       "ACCOUNT CLERK                                   43300.806506     30975.67   \n",
       "ACCOUNTANT                                      46643.172000         0.00   \n",
       "ACCOUNTANT INTERN                               28732.663958      1172.67   \n",
       "ACPO,JuvP, Juv Prob (SFERS)                     62290.780000         0.00   \n",
       "ACUPUNCTURIST                                   66374.400000         0.00   \n",
       "...                                                      ...          ...   \n",
       "X-RAY LABORATORY AIDE                           47664.773077     92851.81   \n",
       "X-Ray Laboratory Aide                           46086.387100    348376.71   \n",
       "YOUTH COMMISSION ADVISOR, BOARD OF SUPERVISORS  52609.910000         0.00   \n",
       "Youth Comm Advisor                              39077.957500         0.00   \n",
       "ZOO CURATOR                                     43148.000000         0.00   \n",
       "\n",
       "                                                OtherPay      TotalPay  \\\n",
       "JobTitle                                                                 \n",
       "ACCOUNT CLERK                                    3370.13  44035.664337   \n",
       "ACCOUNTANT                                       2782.08  47429.268000   \n",
       "ACCOUNTANT INTERN                                3069.19  29031.742917   \n",
       "ACPO,JuvP, Juv Prob (SFERS)                         0.00  62290.780000   \n",
       "ACUPUNCTURIST                                    1220.00  67594.400000   \n",
       "...                                                  ...           ...   \n",
       "X-RAY LABORATORY AIDE                            5643.93  52705.880385   \n",
       "X-Ray Laboratory Aide                            7916.20  50823.942700   \n",
       "YOUTH COMMISSION ADVISOR, BOARD OF SUPERVISORS   1022.96  53632.870000   \n",
       "Youth Comm Advisor                               5296.91  41414.307500   \n",
       "ZOO CURATOR                                     23538.56  66686.560000   \n",
       "\n",
       "                                                TotalPayBenefits  \n",
       "JobTitle                                                          \n",
       "ACCOUNT CLERK                                         3654960.14  \n",
       "ACCOUNTANT                                             237146.34  \n",
       "ACCOUNTANT INTERN                                     1393523.66  \n",
       "ACPO,JuvP, Juv Prob (SFERS)                             80266.37  \n",
       "ACUPUNCTURIST                                           67594.40  \n",
       "...                                                          ...  \n",
       "X-RAY LABORATORY AIDE                                 1370352.89  \n",
       "X-Ray Laboratory Aide                                 6952112.32  \n",
       "YOUTH COMMISSION ADVISOR, BOARD OF SUPERVISORS          53632.87  \n",
       "Youth Comm Advisor                                     240474.20  \n",
       "ZOO CURATOR                                             66686.56  \n",
       "\n",
       "[2158 rows x 5 columns]"
      ]
     },
     "execution_count": 18,
     "metadata": {},
     "output_type": "execute_result"
    }
   ],
   "source": [
    "grouped_by_job_title.aggregate(aggregate_functions)"
   ]
  },
  {
   "cell_type": "code",
   "execution_count": 19,
   "id": "2688353d",
   "metadata": {},
   "outputs": [
    {
     "data": {
      "text/html": [
       "<div>\n",
       "<style scoped>\n",
       "    .dataframe tbody tr th:only-of-type {\n",
       "        vertical-align: middle;\n",
       "    }\n",
       "\n",
       "    .dataframe tbody tr th {\n",
       "        vertical-align: top;\n",
       "    }\n",
       "\n",
       "    .dataframe thead th {\n",
       "        text-align: right;\n",
       "    }\n",
       "</style>\n",
       "<table border=\"1\" class=\"dataframe\">\n",
       "  <thead>\n",
       "    <tr style=\"text-align: right;\">\n",
       "      <th></th>\n",
       "      <th></th>\n",
       "      <th>BasePay</th>\n",
       "      <th>OvertimePay</th>\n",
       "      <th>OtherPay</th>\n",
       "      <th>TotalPay</th>\n",
       "      <th>TotalPayBenefits</th>\n",
       "    </tr>\n",
       "    <tr>\n",
       "      <th>Year</th>\n",
       "      <th>JobTitle</th>\n",
       "      <th></th>\n",
       "      <th></th>\n",
       "      <th></th>\n",
       "      <th></th>\n",
       "      <th></th>\n",
       "    </tr>\n",
       "  </thead>\n",
       "  <tbody>\n",
       "    <tr>\n",
       "      <th rowspan=\"5\" valign=\"top\">2011</th>\n",
       "      <th>ACCOUNT CLERK</th>\n",
       "      <td>43300.806506</td>\n",
       "      <td>30975.67</td>\n",
       "      <td>3370.13</td>\n",
       "      <td>44035.664337</td>\n",
       "      <td>3654960.14</td>\n",
       "    </tr>\n",
       "    <tr>\n",
       "      <th>ACCOUNTANT</th>\n",
       "      <td>46643.172000</td>\n",
       "      <td>0.00</td>\n",
       "      <td>2782.08</td>\n",
       "      <td>47429.268000</td>\n",
       "      <td>237146.34</td>\n",
       "    </tr>\n",
       "    <tr>\n",
       "      <th>ACCOUNTANT INTERN</th>\n",
       "      <td>28732.663958</td>\n",
       "      <td>1172.67</td>\n",
       "      <td>3069.19</td>\n",
       "      <td>29031.742917</td>\n",
       "      <td>1393523.66</td>\n",
       "    </tr>\n",
       "    <tr>\n",
       "      <th>ACUPUNCTURIST</th>\n",
       "      <td>66374.400000</td>\n",
       "      <td>0.00</td>\n",
       "      <td>1220.00</td>\n",
       "      <td>67594.400000</td>\n",
       "      <td>67594.40</td>\n",
       "    </tr>\n",
       "    <tr>\n",
       "      <th>ADMINISTRATIVE ANALYST</th>\n",
       "      <td>63435.628602</td>\n",
       "      <td>0.00</td>\n",
       "      <td>15221.00</td>\n",
       "      <td>63954.867527</td>\n",
       "      <td>5947802.68</td>\n",
       "    </tr>\n",
       "    <tr>\n",
       "      <th>...</th>\n",
       "      <th>...</th>\n",
       "      <td>...</td>\n",
       "      <td>...</td>\n",
       "      <td>...</td>\n",
       "      <td>...</td>\n",
       "      <td>...</td>\n",
       "    </tr>\n",
       "    <tr>\n",
       "      <th rowspan=\"5\" valign=\"top\">2014</th>\n",
       "      <th>Wire Rope Cable Maint Sprv</th>\n",
       "      <td>93904.720000</td>\n",
       "      <td>79173.85</td>\n",
       "      <td>17497.33</td>\n",
       "      <td>190575.900000</td>\n",
       "      <td>228338.09</td>\n",
       "    </tr>\n",
       "    <tr>\n",
       "      <th>Worker's Comp Supervisor 1</th>\n",
       "      <td>54505.333333</td>\n",
       "      <td>0.00</td>\n",
       "      <td>12208.04</td>\n",
       "      <td>56689.446667</td>\n",
       "      <td>461786.71</td>\n",
       "    </tr>\n",
       "    <tr>\n",
       "      <th>Worker's Compensation Adjuster</th>\n",
       "      <td>69915.985385</td>\n",
       "      <td>0.00</td>\n",
       "      <td>11528.37</td>\n",
       "      <td>70636.455385</td>\n",
       "      <td>2527550.84</td>\n",
       "    </tr>\n",
       "    <tr>\n",
       "      <th>X-Ray Laboratory Aide</th>\n",
       "      <td>45490.340286</td>\n",
       "      <td>158576.94</td>\n",
       "      <td>5526.45</td>\n",
       "      <td>51211.566857</td>\n",
       "      <td>2406394.20</td>\n",
       "    </tr>\n",
       "    <tr>\n",
       "      <th>Youth Comm Advisor</th>\n",
       "      <td>32417.420000</td>\n",
       "      <td>0.00</td>\n",
       "      <td>4048.49</td>\n",
       "      <td>36465.910000</td>\n",
       "      <td>52011.19</td>\n",
       "    </tr>\n",
       "  </tbody>\n",
       "</table>\n",
       "<p>4136 rows × 5 columns</p>\n",
       "</div>"
      ],
      "text/plain": [
       "                                          BasePay  OvertimePay  OtherPay  \\\n",
       "Year JobTitle                                                              \n",
       "2011 ACCOUNT CLERK                   43300.806506     30975.67   3370.13   \n",
       "     ACCOUNTANT                      46643.172000         0.00   2782.08   \n",
       "     ACCOUNTANT INTERN               28732.663958      1172.67   3069.19   \n",
       "     ACUPUNCTURIST                   66374.400000         0.00   1220.00   \n",
       "     ADMINISTRATIVE ANALYST          63435.628602         0.00  15221.00   \n",
       "...                                           ...          ...       ...   \n",
       "2014 Wire Rope Cable Maint Sprv      93904.720000     79173.85  17497.33   \n",
       "     Worker's Comp Supervisor 1      54505.333333         0.00  12208.04   \n",
       "     Worker's Compensation Adjuster  69915.985385         0.00  11528.37   \n",
       "     X-Ray Laboratory Aide           45490.340286    158576.94   5526.45   \n",
       "     Youth Comm Advisor              32417.420000         0.00   4048.49   \n",
       "\n",
       "                                          TotalPay  TotalPayBenefits  \n",
       "Year JobTitle                                                         \n",
       "2011 ACCOUNT CLERK                    44035.664337        3654960.14  \n",
       "     ACCOUNTANT                       47429.268000         237146.34  \n",
       "     ACCOUNTANT INTERN                29031.742917        1393523.66  \n",
       "     ACUPUNCTURIST                    67594.400000          67594.40  \n",
       "     ADMINISTRATIVE ANALYST           63954.867527        5947802.68  \n",
       "...                                            ...               ...  \n",
       "2014 Wire Rope Cable Maint Sprv      190575.900000         228338.09  \n",
       "     Worker's Comp Supervisor 1       56689.446667         461786.71  \n",
       "     Worker's Compensation Adjuster   70636.455385        2527550.84  \n",
       "     X-Ray Laboratory Aide            51211.566857        2406394.20  \n",
       "     Youth Comm Advisor               36465.910000          52011.19  \n",
       "\n",
       "[4136 rows x 5 columns]"
      ]
     },
     "execution_count": 19,
     "metadata": {},
     "output_type": "execute_result"
    }
   ],
   "source": [
    "grouped_by_year_job_title.aggregate(aggregate_functions)"
   ]
  },
  {
   "cell_type": "code",
   "execution_count": null,
   "id": "622afc4d",
   "metadata": {},
   "outputs": [],
   "source": []
  }
 ],
 "metadata": {
  "kernelspec": {
   "display_name": "Python 3 (ipykernel)",
   "language": "python",
   "name": "python3"
  },
  "language_info": {
   "codemirror_mode": {
    "name": "ipython",
    "version": 3
   },
   "file_extension": ".py",
   "mimetype": "text/x-python",
   "name": "python",
   "nbconvert_exporter": "python",
   "pygments_lexer": "ipython3",
   "version": "3.11.5"
  }
 },
 "nbformat": 4,
 "nbformat_minor": 5
}
